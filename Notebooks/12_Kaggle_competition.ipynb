{
 "cells": [
  {
   "cell_type": "markdown",
   "id": "fe757389",
   "metadata": {},
   "source": [
    "# Ready for your first Kaggle competition?"
   ]
  },
  {
   "cell_type": "markdown",
   "id": "bf1ad510",
   "metadata": {},
   "source": [
    "Kaggle is a popular platform that hosts machine learning competitions.\n",
    "\n",
    "The platform helps users to interact via forums and shared code, fostering both collaboration and competition."
   ]
  },
  {
   "cell_type": "markdown",
   "id": "38c2d535",
   "metadata": {},
   "source": [
    "1. Go to the Kaggle competition [website](https://www.kaggle.com/competitions).\n",
    "2. Register for an account (it's free).\n",
    "3. Find the __House Prices - Advanced Regression Techniques__\n",
    "4. Go to the Data tab, read the description, download the data."
   ]
  },
  {
   "cell_type": "markdown",
   "id": "63cd52f3",
   "metadata": {},
   "source": [
    "## Inspect the data"
   ]
  },
  {
   "cell_type": "markdown",
   "id": "16e46675",
   "metadata": {},
   "source": [
    "Use pandas python package read the csv files and inspect the data: \n",
    "* How many examples? \n",
    "* How many features?\n",
    "* Are there non-numerial values? If so how do you handle these cases?\n",
    "* Are there NaNs? and if so how do you handle such cases?"
   ]
  },
  {
   "cell_type": "code",
   "execution_count": null,
   "id": "0b6c2ce1",
   "metadata": {},
   "outputs": [],
   "source": [
    "import pandas as pd\n",
    "\n",
    "# Write your code here to read the data "
   ]
  },
  {
   "cell_type": "markdown",
   "id": "dba8b3d7",
   "metadata": {},
   "source": [
    "## Class to load the Training, Validation and Test sets."
   ]
  },
  {
   "cell_type": "code",
   "execution_count": null,
   "id": "ee6dbfd0",
   "metadata": {},
   "outputs": [],
   "source": [
    "class KaggleHouse(d2l.DataModule):\n",
    "    def __init__(self, batch_size, train=None, val=None):\n",
    "        super().__init__()\n",
    "        self.save_hyperparameters()\n",
    "        if self.train is None:\n",
    "            # read the csv files:\n",
    "            self.raw_train = # ?????\n",
    "            self.raw_val = # ?????\n",
    "            self.raw_test = # ?????\n",
    "\n",
    "    def preprocess(self):\n",
    "        \"\"\"All the things you noticed about the data that needs preprocessing \n",
    "           can be addressed here.\n",
    "        \"\"\"\n",
    "        label_col_name = \"...\"\n",
    "        features_train = # ????? Here you want to drop the label column and the 'Id' column from Train set\n",
    "        features_val = # ????? Here you want to drop the label column and the 'Id' column from Val set\n",
    "        features_test = # ????? Here you want to drop the 'Id' column from Test set\n",
    "\n",
    "        # Standardize numerical columns\n",
    "\n",
    "        # Replace NAN numerical features by 0\n",
    "\n",
    "        # Replace discrete features by one-hot encoding\n",
    "\n",
    "        # Save preprocessed features (separate between train and validation sets)\n",
    "        self.train = #????? \n",
    "        self.val = #?????\n",
    "        self.test = #?????\n",
    "\n",
    "    def get_dataloader(self, train):\n",
    "        label_col_name = \"...\"\n",
    "        data = self.train if train else self.val\n",
    "\n",
    "        # Define the data tensor (features tensor, labels tensor reshaped appropriately (i.e. (-1, 1)))\n",
    "        # Note: all the examples need ot be tensors so you need to pass\n",
    "        # Better taking the Logarithm of prices\n",
    "        features = # e.g.  torch.tensor(data.drop(columns=[label_col_name]).values.astype(float), dtype=torch.float32)\n",
    "        labels = # ????? Make sure that this tensor has the same dtype as the features (e.g. dtype=torch.float32)\n",
    "        tensors = (features, labels)\n",
    "        print(tensors[0].size(), tensors[1].size())\n",
    "        return self.get_tensorloader(tensors, train)"
   ]
  },
  {
   "cell_type": "code",
   "execution_count": null,
   "id": "8951e8e5",
   "metadata": {},
   "outputs": [],
   "source": [
    "data = KaggleHouse(batch_size=64)\n"
   ]
  },
  {
   "cell_type": "code",
   "execution_count": null,
   "id": "fd9d4a6f",
   "metadata": {},
   "outputs": [],
   "source": [
    "# test if the data is prepared (you'll need to implement prints in the prepare_data method)\n",
    "data.prepare_data()\n"
   ]
  },
  {
   "cell_type": "code",
   "execution_count": null,
   "id": "38786ab0",
   "metadata": {},
   "outputs": [],
   "source": [
    "# test the data loader : if this works you should get the features and labels tensors sizes: torch.Size([1460, 330]) torch.Size([1460, 1])\n",
    "data.get_dataloader(train=True)\n"
   ]
  },
  {
   "cell_type": "markdown",
   "id": "5297c560",
   "metadata": {},
   "source": [
    "## Training"
   ]
  },
  {
   "cell_type": "code",
   "execution_count": null,
   "id": "acfefbaa",
   "metadata": {},
   "outputs": [],
   "source": [
    "# This function is complete: if you have done everything correctly before in the get_dataloarder this should work\n",
    "def your_training(trainer, data, lr=0.01):\n",
    "    # Get the training dataloader\n",
    "    train_loader = data.get_dataloader(train=True)\n",
    "\n",
    "    model = d2l.LinearRegression(lr) # Initialize the model\n",
    "    model.board.yscale='log'         # iterative loss plot\n",
    "\n",
    "    trainer.fit(model, data)         # fit model to data\n",
    "\n",
    "    return model                     # return the model"
   ]
  },
  {
   "cell_type": "code",
   "execution_count": null,
   "id": "6d9ba5a2",
   "metadata": {},
   "outputs": [],
   "source": [
    "# define the trainer (we can use the built in d2l.Trainer)\n",
    "trainer = d2l.Trainer(max_epochs=20)\n",
    "your_model = your_training(trainer, data, lr=0.01)"
   ]
  },
  {
   "cell_type": "markdown",
   "id": "0b2332d1",
   "metadata": {},
   "source": [
    "## Evaluate your model on the Test set"
   ]
  },
  {
   "cell_type": "code",
   "execution_count": null,
   "id": "31a85aed",
   "metadata": {},
   "outputs": [],
   "source": [
    "your_predictions = your_model(torch.tensor(data.test.values.astype(float), dtype=torch.float32))\n",
    "\n",
    "# NOTE: we trained the model to predict  the log of the labels. we need exponentiation of predictions\n",
    "preds_exp = #??? "
   ]
  },
  {
   "cell_type": "markdown",
   "id": "0a071aa6",
   "metadata": {},
   "source": [
    "## Now save your predictions in a csv file"
   ]
  },
  {
   "cell_type": "markdown",
   "id": "1c576acc",
   "metadata": {},
   "source": [
    "Read carefully the format they want the predction to be and create the csv file accordingly.\n",
    "\n",
    "They want two columns, comma separated values, 'Id' and 'SalePrice'"
   ]
  },
  {
   "cell_type": "code",
   "execution_count": null,
   "id": "ed869df4",
   "metadata": {},
   "outputs": [],
   "source": [
    "submission = pd.DataFrame({'Id': #????\n",
    "                           'SalePrice': #?????\n",
    "                           })\n",
    "\n",
    "submission.to_csv('kaggle_prices/my_submission.csv', index=False)"
   ]
  },
  {
   "cell_type": "markdown",
   "id": "dd477e73",
   "metadata": {},
   "source": [
    "## Submit your predition to the Kaggle competition and see your score!"
   ]
  },
  {
   "cell_type": "markdown",
   "id": "e26cf5e1",
   "metadata": {},
   "source": []
  }
 ],
 "metadata": {
  "kernelspec": {
   "display_name": "d2l",
   "language": "python",
   "name": "python3"
  },
  "language_info": {
   "codemirror_mode": {
    "name": "ipython",
    "version": 3
   },
   "file_extension": ".py",
   "mimetype": "text/x-python",
   "name": "python",
   "nbconvert_exporter": "python",
   "pygments_lexer": "ipython3",
   "version": "3.9.22"
  }
 },
 "nbformat": 4,
 "nbformat_minor": 5
}
