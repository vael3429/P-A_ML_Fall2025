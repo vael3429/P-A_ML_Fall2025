{
 "cells": [
  {
   "cell_type": "markdown",
   "id": "0d8b886b",
   "metadata": {},
   "source": [
    "#  Object-Oriented Design for Implementation"
   ]
  },
{
   "cell_type": "markdown",
"id": "0b59b9de",
"metadata": {},
   "source": [
    "Treating components in deep learning as objects, we can start by defining classes for these objects and their interactions. This object-oriented design for implementation will greatly streamline the presentation and you might even want to use it in your projects."
]
  },
  {
   "cell_type": "code",
"execution_count": null,
   "id": "0c8b5c42",
   "metadata": {},
   "outputs": [],
   "source": [
    "import time\n",
    "import numpy as np\n",
    "import torch\n",
"from torch import nn\n",
    "from d2l import torch as d2l"
   ]
  },
  {
   "cell_type": "markdown",
"id": "2eb9ebac",
   "metadata": {},
   "source": [
"## Vectorization for speed"
   ]
},
  {
   "cell_type": "markdown",
"id": "8f5a87db",
   "metadata": {},
   "source": [
    "First let's see in practice why element-wise operations (and in general vectorization) are useful in machine learning.\n",
    "\n",
    "Take two very long arrays and compute an array whose elements are the sum of the elements in the two arrays (element wise)."
   ]
  },
  {
   "cell_type": "code",
   "execution_count": null,
   "id": "dc633ffb",
   "metadata": {},
   "outputs": [],
   "source": [
    "# define arrays with n = 10000 elements\n",
    "n = 10000\n",
    "a = torch.ones(n)\n",
"b = torch.ones(n)"
   ]
  },
  {
   "cell_type": "code",
   "execution_count": null,
   "id": "441facb5",
   "metadata": {},
   "outputs": [],
   "source": [
    "# test one: use pure python for loop\n",
    "start_time = time.time()\n",
    "c = []\n",
    "for i in range(n):\n",
    "    c.append(a[i] + b[i])\n",
    "end_time = time.time()\n",
    "print(f\"Time taken for pure python loop: {end_time - start_time:.6f} seconds\")"
   ]
  },
  {
   "cell_type": "code",
   "execution_count": null,
   "id": "3590552a",
   "metadata": {},
   "outputs": [],
   "source": [
    "# compute the sum of the two arrays element-wise\n",
    "start_time = time.time()\n",
    "c = a + b\n",
    "end_time = time.time()\n",
    "print(f\"Time taken for vectorized operation: {end_time - start_time:.6f} seconds\")"
   ]
  },
  {
   "cell_type": "markdown",
   "id": "6a21b1c8",
   "metadata": {},
   "source": [
    "The vectorize version is much faster!"
   ]
  },
  {
   "cell_type": "markdown",
   "id": "2844bbc6",
   "metadata": {},
   "source": [
    "## Utility functions"
   ]
  },
  {
   "cell_type": "markdown",
   "id": "6f5118cf",
   "metadata": {},
   "source": [
    "### 1: add_to_class"
   ]
  },
  {
   "cell_type": "markdown",
   "id": "02e114e6",
   "metadata": {},
   "source": [
    "Notebook readability demands short code fragments, interspersed with explanations, a requirement incompatible with the style of programming common for Python libraries. The first utility function allows us to register functions as methods in a class after the class has been created."
   ]
  },
  {
   "cell_type": "code",
   "execution_count": null,
   "id": "4e4dc18b",
   "metadata": {},
   "outputs": [],
   "source": [
    "def add_to_class(Class):  #@save\n",
    "    \"\"\"Register functions as methods in created class.\"\"\"\n",
    "    def wrapper(obj):\n",
    "        setattr(Class, obj.__name__, obj)\n",
    "    return wrapper\n",
    "\n",
    "\n",
    "#- add_to_class(Class) returns wrapper.\n",
    "#- When you use this as a decorator on a function, Python passes the function object as obj to wrapper.\n",
    "#- `obj.__name__ is the function’s name (string).\n",
    "# setattr(Class, obj.__name__, obj) attaches that function as a method to Class.\n"
   ]
  },
  {
   "cell_type": "code",
   "execution_count": null,
   "id": "73a740e3",
   "metadata": {},
   "outputs": [],
   "source": [
    "# use example to demonstrate the use of add_to_class\n",
    "class A:\n",
    "    def __init__(self):\n",
    "        self.b = 1\n",
    "a = A()\n"
   ]
  },
  {
   "cell_type": "code",
   "execution_count": null,
   "id": "12392d04",
   "metadata": {},
   "outputs": [],
   "source": [
    "@add_to_class(A)\n",
    "def do(self):\n",
    "    print('Class attribute \"b\" is', self.b)\n",
    "    \n",
    "a.do()"
   ]
  },
  {
   "cell_type": "markdown",
   "id": "e265c926",
   "metadata": {},
   "source": [
    "### 2: Extend hyperparameters 'callability'"
   ]
  },
  {
   "cell_type": "markdown",
   "id": "f03d0873",
   "metadata": {},
   "source": [
    "The second one is a utility class that saves all arguments in a class’s __init__ method Object-Oriented Design for Implementation as class attributes. This allows us to extend constructor call signatures implicitly without additional code."
   ]
  },
  {
   "cell_type": "code",
   "execution_count": null,
   "id": "4c4428aa",
   "metadata": {},
   "outputs": [],
   "source": [
    "class HyperParameters:  #@save\n",
    "    \"\"\"The base class of hyperparameters.\"\"\"\n",
    "    def save_hyperparameters(self, ignore=[]):\n",
    "        \" This method is intended to be implemented in a subclass,\" \n",
    "        \" but it hasn’t been implemented yet. is a built-in Python \"\n",
    "        \" exception used to indicate that a certain method or function\" \n",
    "        \" must be overridden in a derived (child) class.\"\n",
    "        \" By raising it, the base class (probably an abstract class \"\n",
    "        \" or interface) forces any subclass to implement its own \"\n",
    "        \" version of the loss function\"\n",
    "        raise NotImplemented\n",
    "    \n",
    "    "
   ]
  },
  {
   "cell_type": "code",
   "execution_count": null,
   "id": "53df836e",
   "metadata": {},
   "outputs": [],
   "source": [
    "# Example use\n",
    "# Call the fully implemented HyperParameters class saved in d2l\n",
    "class B(d2l.HyperParameters):\n",
    "    def __init__(self, a, b, c):\n",
    "        self.save_hyperparameters(ignore=['c'])\n",
    "        print('self.a =', self.a, 'self.b =', self.b)\n",
    "        print('There is no self.c =', not hasattr(self, 'c'))\n",
    "        \n",
    "b = B(a=1, b=2, c=3)"
   ]
  },
  {
   "cell_type": "markdown",
   "id": "be098acf",
   "metadata": {},
   "source": [
    "### 3: Plot utilities - interactive plots"
   ]
  },
  {
   "cell_type": "code",
   "execution_count": null,
   "id": "f5d5467c",
   "metadata": {},
   "outputs": [],
   "source": [
    "class ProgressBoard(d2l.HyperParameters):  #@save\n",
    "    \"\"\"The board that plots data points in animation.\"\"\"\n",
    "    def __init__(self, xlabel=None, ylabel=None, xlim=None,\n",
    "                 ylim=None, xscale='linear', yscale='linear',\n",
    "                 ls=['-', '--', '-.', ':'], colors=['C0', 'C1', 'C2', 'C3'],\n",
    "                 fig=None, axes=None, figsize=(3.5, 2.5), display=True):\n",
    "        self.save_hyperparameters()\n",
    "        \n",
    "    def draw(self, x, y, label, every_n=1):\n",
    "        raise NotImplemented"
   ]
  },
  {
   "cell_type": "code",
   "execution_count": null,
   "id": "21869a97",
   "metadata": {},
   "outputs": [],
   "source": [
    "board = d2l.ProgressBoard('x')\n",
    "\n",
    "for x in np.arange(0, 10, 0.1):\n",
    "    board.draw(x, np.sin(x), 'sin', every_n=2)\n",
    "    board.draw(x, np.cos(x), 'cos', every_n=10)"
   ]
  },
  {
   "cell_type": "code",
   "execution_count": null,
   "id": "9c8be2b1",
   "metadata": {},
   "outputs": [],
   "source": [
    "# Note: the above code uses the d2l library's ProgressBoard class, rather than the one defined here.\n",
    "# to see the actual implementation, you would need to refer to the d2l library's source code. \n",
    "# You can inspect classes implementations in jupyter by running:\n",
    "\n",
    "# d2l.ProgressBoard??"
   ]
  },
  {
   "cell_type": "markdown",
   "id": "42b09fe4",
   "metadata": {},
   "source": [
    "## Exercises"
   ]
  },
  {
   "cell_type": "markdown",
   "id": "3dd38891",
   "metadata": {},
   "source": [
    "### Ex 1 -- Remove the save_hyperparameters statement in the B class.\n",
    "\n",
    "Can you still print self.a and self.b? "
   ]
  },
  {
   "cell_type": "code",
   "execution_count": null,
   "id": "63293e36",
   "metadata": {},
   "outputs": [],
   "source": []
  }
 ],
 "metadata": {
  "kernelspec": {
   "display_name": "d2l",
   "language": "python",
   "name": "python3"
  },
  "language_info": {
   "codemirror_mode": {
    "name": "ipython",
    "version": 3
   },
   "file_extension": ".py",
   "mimetype": "text/x-python",
   "name": "python",
   "nbconvert_exporter": "python",
   "pygments_lexer": "ipython3",
   "version": "3.9.22"
  }
 },
 "nbformat": 4,
 "nbformat_minor": 5
}
