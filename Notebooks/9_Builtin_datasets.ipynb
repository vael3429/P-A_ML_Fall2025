{
 "cells": [
  {
   "cell_type": "markdown",
   "id": "132cedb6",
   "metadata": {},
   "source": [
    "# Torchvision Built-in datasets"
   ]
  },
  {
   "cell_type": "markdown",
   "id": "fd9e2289",
   "metadata": {},
   "source": [
    "Torchvision provides many built-in datasets in the `torchvision.datasets` module, as well as utility classes for building your own datasets."
   ]
  },
  {
   "cell_type": "markdown",
   "id": "8c13ae3b",
   "metadata": {},
   "source": [
    "All datasets are subclasses of `torch.utils.data.Dataset` i.e, they have `__getitem__` and `__len__` methods implemented. Hence, they can all be passed to a `torch.utils.data.DataLoader` which can load multiple samples in parallel using torch.multiprocessing workers. For example:"
   ]
  },
  {
   "cell_type": "code",
   "execution_count": 1,
   "id": "d32d84fc",
   "metadata": {},
   "outputs": [],
   "source": [
    "import os\n",
    "import torch\n",
    "import torchvision\n",
    "import matplotlib.pyplot as plt\n"
   ]
  },
  {
   "cell_type": "markdown",
   "id": "21916182",
   "metadata": {},
   "source": [
    "## Example: MNIST"
   ]
  },
  {
   "cell_type": "code",
   "execution_count": 2,
   "id": "0bdb6851",
   "metadata": {},
   "outputs": [],
   "source": [
    "data_folder = '../data/'\n",
    "dataset_name = 'MNIST'\n",
    "dataset_folder = os.path.join(data_folder, dataset_name)"
   ]
  },
  {
   "cell_type": "code",
   "execution_count": 3,
   "id": "6319c911",
   "metadata": {},
   "outputs": [
    {
     "name": "stdout",
     "output_type": "stream",
     "text": [
      "Dataset folder '../data/MNIST' does not exist. Downloading dataset...\n",
      "Downloading http://yann.lecun.com/exdb/mnist/train-images-idx3-ubyte.gz\n",
      "Failed to download (trying next):\n",
      "HTTP Error 404: Not Found\n",
      "\n",
      "Downloading https://ossci-datasets.s3.amazonaws.com/mnist/train-images-idx3-ubyte.gz\n",
      "Downloading https://ossci-datasets.s3.amazonaws.com/mnist/train-images-idx3-ubyte.gz to ../data/MNIST/raw/train-images-idx3-ubyte.gz\n"
     ]
    },
    {
     "name": "stderr",
     "output_type": "stream",
     "text": [
      "100.0%\n"
     ]
    },
    {
     "name": "stdout",
     "output_type": "stream",
     "text": [
      "Extracting ../data/MNIST/raw/train-images-idx3-ubyte.gz to ../data/MNIST/raw\n",
      "\n",
      "Downloading http://yann.lecun.com/exdb/mnist/train-labels-idx1-ubyte.gz\n",
      "Failed to download (trying next):\n",
      "HTTP Error 404: Not Found\n",
      "\n",
      "Downloading https://ossci-datasets.s3.amazonaws.com/mnist/train-labels-idx1-ubyte.gz\n",
      "Downloading https://ossci-datasets.s3.amazonaws.com/mnist/train-labels-idx1-ubyte.gz to ../data/MNIST/raw/train-labels-idx1-ubyte.gz\n"
     ]
    },
    {
     "name": "stderr",
     "output_type": "stream",
     "text": [
      "100.0%\n"
     ]
    },
    {
     "name": "stdout",
     "output_type": "stream",
     "text": [
      "Extracting ../data/MNIST/raw/train-labels-idx1-ubyte.gz to ../data/MNIST/raw\n",
      "\n",
      "Downloading http://yann.lecun.com/exdb/mnist/t10k-images-idx3-ubyte.gz\n",
      "Failed to download (trying next):\n",
      "HTTP Error 404: Not Found\n",
      "\n",
      "Downloading https://ossci-datasets.s3.amazonaws.com/mnist/t10k-images-idx3-ubyte.gz\n",
      "Downloading https://ossci-datasets.s3.amazonaws.com/mnist/t10k-images-idx3-ubyte.gz to ../data/MNIST/raw/t10k-images-idx3-ubyte.gz\n"
     ]
    },
    {
     "name": "stderr",
     "output_type": "stream",
     "text": [
      "100.0%\n"
     ]
    },
    {
     "name": "stdout",
     "output_type": "stream",
     "text": [
      "Extracting ../data/MNIST/raw/t10k-images-idx3-ubyte.gz to ../data/MNIST/raw\n",
      "\n",
      "Downloading http://yann.lecun.com/exdb/mnist/t10k-labels-idx1-ubyte.gz\n",
      "Failed to download (trying next):\n",
      "HTTP Error 404: Not Found\n",
      "\n",
      "Downloading https://ossci-datasets.s3.amazonaws.com/mnist/t10k-labels-idx1-ubyte.gz\n"
     ]
    },
    {
     "name": "stderr",
     "output_type": "stream",
     "text": [
      "100.0%"
     ]
    },
    {
     "name": "stdout",
     "output_type": "stream",
     "text": [
      "Downloading https://ossci-datasets.s3.amazonaws.com/mnist/t10k-labels-idx1-ubyte.gz to ../data/MNIST/raw/t10k-labels-idx1-ubyte.gz\n",
      "Extracting ../data/MNIST/raw/t10k-labels-idx1-ubyte.gz to ../data/MNIST/raw\n",
      "\n"
     ]
    },
    {
     "name": "stderr",
     "output_type": "stream",
     "text": [
      "\n"
     ]
    }
   ],
   "source": [
    "if os.path.exists(dataset_folder):\n",
    "    print(f\"Using existing dataset folder: {dataset_folder}\")\n",
    "    mnist_data = torchvision.datasets.MNIST(data_folder, \n",
    "                                            train=True,\n",
    "                                            transform=torchvision.transforms.ToTensor())\n",
    "    # NOTE:\n",
    "    # transform=torchvision.transforms.ToTensor(): Converts the PIL Image or NumPy array to a \n",
    "    # torch.FloatTensor and scales the pixel values to the range [0.0, 1.0].\n",
    "else:\n",
    "    print(f\"Dataset folder '{dataset_folder}' does not exist. Downloading dataset...\")\n",
    "    mnist_data = torchvision.datasets.MNIST(data_folder, \n",
    "                                            train=True,\n",
    "                                            transform=torchvision.transforms.ToTensor(), \n",
    "                                            download=True)"
   ]
  },
  {
   "cell_type": "code",
   "execution_count": 4,
   "id": "6d65cdef",
   "metadata": {
    "scrolled": true
   },
   "outputs": [
    {
     "name": "stdout",
     "output_type": "stream",
     "text": [
      "Dataset MNIST\n",
      "    Number of datapoints: 60000\n",
      "    Root location: ../data/\n",
      "    Split: Train\n",
      "    StandardTransform\n",
      "Transform: ToTensor()\n"
     ]
    }
   ],
   "source": [
    "print(mnist_data)"
   ]
  },
  {
   "cell_type": "code",
   "execution_count": 5,
   "id": "90d75c2d",
   "metadata": {},
   "outputs": [
    {
     "name": "stdout",
     "output_type": "stream",
     "text": [
      "Image shape: torch.Size([1, 28, 28])\n",
      "Label: 5\n"
     ]
    }
   ],
   "source": [
    "# Get the first image and its label\n",
    "image, label = mnist_data[0] \n",
    "\n",
    "print(\"Image shape:\", image.shape)\n",
    "print(\"Label:\", label)"
   ]
  },
  {
   "cell_type": "code",
   "execution_count": 6,
   "id": "f46ef7bb",
   "metadata": {},
   "outputs": [
    {
     "name": "stdout",
     "output_type": "stream",
     "text": [
      "Image 0 - Label: 5\n",
      "Image 1 - Label: 0\n",
      "Image 2 - Label: 4\n",
      "Image 3 - Label: 1\n",
      "Image 4 - Label: 9\n",
      "Image 5 - Label: 2\n",
      "Image 6 - Label: 1\n",
      "Image 7 - Label: 3\n",
      "Image 8 - Label: 1\n",
      "Image 9 - Label: 4\n"
     ]
    },
    {
     "data": {
      "image/png": "[encoded data removed]",
      "text/plain": [
       "<Figure size 1200x500 with 10 Axes>"
      ]
     },
     "metadata": {},
     "output_type": "display_data"
    }
   ],
   "source": [
    "# Plotting the first 10 images in the dataset\n",
    "\n",
    "fig, ax = plt.subplots(2, 5, figsize=(12, 5))\n",
    "\n",
    "for i in range(10):\n",
    "    image, label = mnist_data[i]\n",
    "    print(f\"Image {i} - Label: {label}\")\n",
    "    ax[i // 5, i % 5].imshow(image.squeeze(), cmap='gray')\n",
    "    ax[i // 5, i % 5].set_title(f\"Label: {label}\")\n",
    "    ax[i // 5, i % 5].axis('off')\n",
    "plt.show()\n"
   ]
  },
  {
   "cell_type": "markdown",
   "id": "3e80e47a",
   "metadata": {},
   "source": [
    "# Exercises"
   ]
  },
  {
   "cell_type": "markdown",
   "id": "dc4c16e1",
   "metadata": {},
   "source": [
    "Explore the list of available datasets in `Torchvision`:\n",
    "\n",
    "https://docs.pytorch.org/vision/stable/datasets.html\n",
    "\n",
    "Choos one datased and inspect / visualize it's content:\n",
    "- How many examples?\n",
    "- What is the dimentionality of ech input example?\n",
    "- What are the lables?\n",
    "- What tipe of study can you do with this dataset?\n"
   ]
  },
  {
   "cell_type": "markdown",
   "id": "a8aef192",
   "metadata": {},
   "source": []
  }
 ],
 "metadata": {
  "kernelspec": {
   "display_name": "Python 3 (ipykernel)",
   "language": "python",
   "name": "python3"
  },
  "language_info": {
   "codemirror_mode": {
    "name": "ipython",
    "version": 3
   },
   "file_extension": ".py",
   "mimetype": "text/x-python",
   "name": "python",
   "nbconvert_exporter": "python",
   "pygments_lexer": "ipython3",
   "version": "3.8.10"
  }
 },
 "nbformat": 4,
 "nbformat_minor": 5
}
